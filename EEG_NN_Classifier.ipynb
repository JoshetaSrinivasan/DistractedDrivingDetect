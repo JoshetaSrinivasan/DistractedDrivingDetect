{
 "cells": [
  {
   "cell_type": "code",
   "execution_count": 1,
   "metadata": {},
   "outputs": [],
   "source": [
    "# This code is modified from \"http://learn.neurotechedu.com/machinelearning/\" \n",
    "\n",
    "# Turn off warnings \n",
    "# You'll want to comment this out if you plan on modifying this code, to get valuable feedback\n",
    "import warnings\n",
    "warnings.filterwarnings('ignore')"
   ]
  },
  {
   "cell_type": "markdown",
   "metadata": {},
   "source": [
    "# Set-up"
   ]
  },
  {
   "cell_type": "code",
   "execution_count": 2,
   "metadata": {},
   "outputs": [],
   "source": [
    "# import modules\n",
    "from collections import OrderedDict\n",
    "from pylab import rcParams\n",
    "import torch\n",
    "import torch.nn as nn\n",
    "import torchvision.transforms\n",
    "import matplotlib.pyplot as plt\n",
    "import numpy as np\n",
    "from sklearn.preprocessing import StandardScaler\n",
    "import csv\n",
    "import random\n",
    "import string\n"
   ]
  },
  {
   "cell_type": "code",
   "execution_count": 3,
   "metadata": {},
   "outputs": [],
   "source": [
    "# # Uncomment below if needed: \n",
    "# # Set the randomizer seed for some consistency\n",
    "# torch.manual_seed(100)"
   ]
  },
  {
   "cell_type": "markdown",
   "metadata": {},
   "source": [
    "# Network \n",
    "Our Neural Network is going to be a simple Multi-Layer-Perceptron(MLP). \n",
    "So what is a MLP? Here are some resources to give you an understanding: \n",
    "1. https://machinelearningmastery.com/neural-networks-crash-course/\n",
    "2. https://www.youtube.com/watch?v=u5GAVdLQyIg (literally my fav)\n",
    "\n",
    "For our MLP, we want 3 sets of EEG data combined into a single sample; passed into the NN and for the NN to return if the data corresponds to Mind-Wandering or not. So, the structure of our MLP should be as follows:\n",
    "\n",
    "Our MLP: \n",
    "24 neurons (input) -> 7 neurons (hidden layer) -> 6 neurons (hidden layer)  -> 5 neurons (output layer) -> 1(output)\n",
    "\n",
    "The rationale for the input and output sizes are obvious enough (8*3 = 24 for input; we need one output -> is this mindwandering?) Yet you may ask: \n",
    "    1. Why 2 hidden layers? \n",
    "    2. Why the number of neurons for each layer?\n",
    "\n",
    "I chose these hyper-parameters simply by trial and error. I had two things to balance. I needed sufficiently large number of neurons and layers to be able to be sensitive to Mind-Wandering. I also needed it to be sufficiently small to fit onto the Arduino Uno. This configuration was the sweet-spot I managed to hit. \n",
    "\n",
    "Let's first innitialize these parameters:"
   ]
  },
  {
   "cell_type": "code",
   "execution_count": 4,
   "metadata": {},
   "outputs": [],
   "source": [
    "# Innitialize parameters\n",
    "eeg_sample_length = 3*8  # No. of data points in 1 sample = no. of readings * no. of EEG data points in one reading\n",
    "learning_rate = 6e-3     # How hard the network will correct its mistakes while learning\n",
    "number_of_classes = 1    # no. of binary questions we want answered: is this mindwander?\n",
    "hidden1 = 7              # Number of neurons in our first hidden layer\n",
    "hidden2 = 6              # Number of neurons in our second hidden layer\n",
    "output = 5               # Number of neurons in our output layer"
   ]
  },
  {
   "cell_type": "markdown",
   "metadata": {},
   "source": [
    "Now, we make the network. We are going to be using pyTorch to do so. We have imported torch.nn as nn. I.e. we can access torch.nn (the pyTorch module for Neural Networks) as nn. \n",
    "\n",
    "First we use nn.sequential to build a Neural Network model: nn.sequential takes in modules and adds them to the model in the order that they are passed in: https://pytorch.org/docs/stable/generated/torch.nn.Sequential.html\n",
    "\n",
    "These modules can be a layers of neurons, activation functions for layers of neurons, etc. We are going to have 4 layers (in addition, to the input and output) with activation for each layer.\n",
    "\n",
    "The following block of code achieves this: "
   ]
  },
  {
   "cell_type": "code",
   "execution_count": 5,
   "metadata": {},
   "outputs": [],
   "source": [
    "# Define the network \n",
    "\n",
    "nn_model = nn.Sequential() # Innit model \n",
    "\n",
    "# Add Input layer (Size 24 -> 7)\n",
    "nn_model.add_module('InputLinear', nn.Linear(eeg_sample_length, hidden1))\n",
    "nn_model.add_module('InputActivation', nn.ELU()) \n",
    "\n",
    "# Add Hidden layer (Size 7 -> 6)\n",
    "nn_model.add_module('HiddenLinear', nn.Linear(hidden1, hidden2))\n",
    "nn_model.add_module('HiddenActivation', nn.ReLU())\n",
    "\n",
    "# Add Hidden Layer (Size 6 -> 5)\n",
    "nn_model.add_module('HiddenLinear2', nn.Linear(hidden2, output))\n",
    "nn_model.add_module('HiddenActivation2', nn.ReLU())\n",
    "\n",
    "\n",
    "# Add Output Layer (Size 5 -> 1)\n",
    "nn_model.add_module('OutputLinear', nn.Linear(output, number_of_classes))\n",
    "nn_model.add_module('OutputActivation', nn.Sigmoid())\n",
    "\n"
   ]
  },
  {
   "cell_type": "markdown",
   "metadata": {},
   "source": [
    "Once we have out NN model, we have to define a \n",
    "1. Loss function: This function helps a NN learn. It calculates the difference between the expected output and the NN's current given output for the same input. Minimizing this is the goal of training. \n",
    "\n",
    "2. Training function: This is the function that actually trains the NN. It iterates over a large number and changes the weights in an attempt to minimize the output of the loss function. The goal is to hit loss = 0. "
   ]
  },
  {
   "cell_type": "code",
   "execution_count": 6,
   "metadata": {},
   "outputs": [],
   "source": [
    "# Define training and loss function \n",
    "\n",
    "# Loss function definition\n",
    "loss_function = torch.nn.MSELoss() # common loss function available in pyTorch\n",
    "\n",
    "# Trainig procedure definition\n",
    "def train_network(train_data, actual_class, iterations):\n",
    "    # Keep track of loss at every training iteration\n",
    "    loss_data = []\n",
    "    \n",
    "    # Begin training for a certain amount of iterations\n",
    "    for i in range(iterations):\n",
    "        # Begin with a classification\n",
    "        classification = nn_model(train_data)\n",
    "        \n",
    "        # Find out how wrong the network was\n",
    "        loss = loss_function(classification, actual_class)\n",
    "        loss_data.append(loss)\n",
    "        \n",
    "        # Zero out the optimizer gradients every iteration\n",
    "        optimizer.zero_grad() # to prevent gradient explosion\n",
    "        \n",
    "        # Teach the network how to do better next time # Update weights\n",
    "        loss.backward()\n",
    "        optimizer.step()\n",
    "        \n",
    "    # Plot a nice loss graph at the end of training\n",
    "    rcParams['figure.figsize'] = 10, 5\n",
    "    plt.title(\"Loss vs Iterations\")\n",
    "    plt.plot(list(range(0, len(loss_data))), loss_data)\n",
    "    plt.show()\n",
    "    \n",
    "# Save the network's default state so we can retrain from the default weights\n",
    "torch.save(nn_model, \"nn_model_default_state\")\n",
    "    \n",
    "    "
   ]
  },
  {
   "cell_type": "markdown",
   "metadata": {},
   "source": [
    "# Data Pre-Processing\n",
    "\n",
    "We now have a Network and a function that can train it. Our next step is to actually train our network. Before this can be done, however, we need to be get our data to be in a format that can be fed into the network to train it. The next couple of blocks achieve this: "
   ]
  },
  {
   "cell_type": "code",
   "execution_count": 7,
   "metadata": {
    "scrolled": true
   },
   "outputs": [],
   "source": [
    "# Retrieve data from CSV file \n",
    "data_path = \"/Users/JoshetaaMacbookPro/Desktop/BCIProject/MindWanderData/dataCollection/EEGdata_mindWander.csv\"\n",
    "# ^^ Replace with the data path of YOUR csv file "
   ]
  },
  {
   "cell_type": "markdown",
   "metadata": {},
   "source": [
    "First step to be able to train our network is to create two data sets: \n",
    "    1. Mind-Wandering samples (posEvent)\n",
    "    2. Non Mind-Wandering samples (negEvent)\n",
    " \n",
    "Before we do that, we need to read our file, store it in a list/array to perform computations with, and filter out what we dont need. The next block of code demonstrates this:"
   ]
  },
  {
   "cell_type": "code",
   "execution_count": 8,
   "metadata": {
    "scrolled": true
   },
   "outputs": [],
   "source": [
    "# Splitting Data into positive and negative samples \n",
    "\n",
    "# Innitialize lists\n",
    "data = []            # This will contain the data from the CSV file \n",
    "posEvents = []       # This will contain Mind-Wandering samples\n",
    "negEvents = []       # This will contain non Mind-Wandering samples\n",
    "\n",
    "\n",
    "with open(data_path, newline='') as csvfile:    # Open csv file \n",
    "    rawData = csv.reader(csvfile)\n",
    "    for row in rawData: \n",
    "        data.append(row)                        # Update data[] with the lines from CSV file\n",
    "\n",
    "del data[0]                       # Remove headers\n",
    "\n",
    "for line in range(len(data)):     # Remove signal strength, attn, and meditatn values\n",
    "    data[line] = data[line][3:]\n",
    "\n",
    "### Remove Data that have button pressess 'too close' together (i.e. within 10 readings)###\n",
    "buttonLines = []                    # Innitialize list \n",
    "for line in range(len(data)):       # Add line numebr to list if they have a \"*\" at the end\n",
    "    if data[line][-1] == \"*\":\n",
    "        buttonLines.append(line)\n",
    "        \n",
    "prevLine = buttonLines[0]          # Innitialize previous line\n",
    "for line in buttonLines[1:]:       # Go through all the button lines \n",
    "    if line-prevLine < 10:         # If lines too close together\n",
    "        del data[prevLine-5:line]  # remove the first button instance \n",
    "    prevLine = line                # reset previous line to current line\n",
    "\n",
    "\n"
   ]
  },
  {
   "cell_type": "markdown",
   "metadata": {},
   "source": [
    "We have pre-processed our data. Now we can split the data into the two required classes: \n",
    "Mind Wandering V/S not."
   ]
  },
  {
   "cell_type": "code",
   "execution_count": 9,
   "metadata": {},
   "outputs": [
    {
     "name": "stdout",
     "output_type": "stream",
     "text": [
      "posEv: 73, negEv: 73 \n",
      "Pos shape:  (73, 24)\n",
      "Neg shape:  (73, 24)\n"
     ]
    }
   ],
   "source": [
    "for line in range(len(data)-6):\n",
    "    sampleP = []   # Will contain positive samples\n",
    "    sampleN = []   # Will contain negaiive samples\n",
    "    \n",
    "    if data[line][-1] == \"*\":              # for lines with button-press\n",
    "        # POSITIVE EVENTS \n",
    "        del data[line][-1]\n",
    "        sampleP.append(data[line-5:line])  # choose 5 seconds of data before button press\n",
    "        del sampleP[0][3:5]                # delete last 2 seconds of data (reaction time)\n",
    "        # make sample a single array\n",
    "        sampleP = np.concatenate(np.squeeze(np.array(sampleP)), axis = 0) \n",
    "        sampleP = list(map(int, sampleP))  # converts elements from string to integer\n",
    "        posEvents.append(sampleP)          # add sample to posEvents list\n",
    "\n",
    "       \n",
    "        # NEGATIVE EVENTS\n",
    "        sampleN.append(data[line+1:line+6]) # choose 5 seconds of data after button press\n",
    "        del sampleN[0][0:2]                 # delete first 2 seconds of data (reaction time)\n",
    "        # make sample a single array\n",
    "        sampleN = np.concatenate(np.squeeze(np.array(sampleN)), axis = 0)\n",
    "        sampleN = list(map(int, sampleN))   # converts elements from string to integer\n",
    "        negEvents.append(sampleN)           # add sample to negEvents list\n",
    "\n",
    "    \n",
    "# Prints number os pos and neg events found\n",
    "print(\"posEv: {}, negEv: {} \".format(len(posEvents), len(negEvents)))\n",
    "    \n",
    "# create arrays of the events lists \n",
    "pos = np.array(posEvents)\n",
    "neg = np.array(negEvents)\n",
    "\n",
    "# Prints shape of events arrays\n",
    "print(\"Pos shape: \", pos.shape)\n",
    "print(\"Neg shape: \",neg.shape)"
   ]
  },
  {
   "cell_type": "markdown",
   "metadata": {},
   "source": [
    "Now that we have split our data into two data sets - pos and neg - we should be able to start training our Neural Network. However, for a good machine learning model (i.e. NN) we need to scale and normalize our data. Here's is a really good article that explains why: \n",
    "\n",
    "https://towardsdatascience.com/all-about-feature-scaling-bcc0ad75cb35#:~:text=Feature%20scaling%20is%20essential%20for,that%20calculate%20distances%20between%20data.&text=Therefore%2C%20the%20range%20of%20all,proportionately%20to%20the%20final%20distance.\n",
    "\n",
    "In the next block of code, I use the standard scaling functionlity in scikit learn that we have imported to scale our data between (-1,1) and also to normalize it to get a mean of 0 and variance of 1.\n",
    "\n",
    "As documented here: \n",
    "https://scikit-learn.org/stable/modules/generated/sklearn.preprocessing.StandardScaler.html\n",
    "This is done using the following formula -\n",
    "\n",
    "x = (x - mean)/standard deviation\n"
   ]
  },
  {
   "cell_type": "code",
   "execution_count": 10,
   "metadata": {
    "scrolled": true
   },
   "outputs": [
    {
     "name": "stdout",
     "output_type": "stream",
     "text": [
      "Means:  [763727.5, 305545.2191780822, 120259.80821917808, 108257.65753424658, 107781.88356164383, 93348.26712328767, 59532.41095890411, 41665.479452054795, 774772.5342465753, 307755.4315068493, 127224.13698630137, 99825.27397260274, 119648.16438356164, 111443.3493150685, 68701.67123287672, 47535.42465753425, 670013.2602739726, 336091.51369863015, 137296.18493150684, 111801.14383561644, 130838.75342465754, 114929.1095890411, 77775.83561643836, 57266.95205479452]\n",
      "\n",
      "Scales:  [689481.9648178221, 344369.2637187367, 168157.14352828835, 164327.45929520408, 145694.50214552248, 121902.04244197278, 76709.82527794976, 60074.24470046851, 650649.7912980696, 364156.8012847353, 177017.4129349616, 129661.47426841634, 160570.00969977758, 159264.76036817252, 102066.6424713352, 64606.56944763643, 558380.868423735, 470732.73160098365, 224739.0479448347, 145396.46561295632, 177029.31711959356, 176695.24692303827, 127958.09637405365, 97400.32273555797]\n"
     ]
    }
   ],
   "source": [
    "## Standard Scalar \n",
    "eeg_data_scaler = StandardScaler()           # innit instance of scalar\n",
    "conc = np.concatenate((pos,neg), axis=0)     # Create a set of all pos and neg data joined\n",
    "scaled = eeg_data_scaler.fit_transform(conc) # Scale the set \n",
    "pos = np.split(scaled,2)[0]                  # Split scaled positive\n",
    "neg = np.split(scaled,2)[1]                  # Split scaled negative \n",
    "\n",
    "means = list(eeg_data_scaler.mean_)          # Get a list of the means used in scaling \n",
    "\n",
    "scales = list(eeg_data_scaler.scale_)        # Get a list of the s.d. used in scaling   \n",
    "\n",
    "print(\"Means: \", means)\n",
    "print()\n",
    "print(\"Scales: \", scales)\n"
   ]
  },
  {
   "cell_type": "markdown",
   "metadata": {},
   "source": [
    "We want to copy the means and scales into our arduino program to scale the input data with the same scaling used in training the NN. "
   ]
  },
  {
   "cell_type": "markdown",
   "metadata": {},
   "source": [
    "Now that we have scaled positive and negative event data, we need to convert them into a form that our pytorch NN model can take in as input. \n"
   ]
  },
  {
   "cell_type": "code",
   "execution_count": 11,
   "metadata": {
    "scrolled": true
   },
   "outputs": [
    {
     "name": "stdout",
     "output_type": "stream",
     "text": [
      "training data count: 74\n",
      "positive testing data count: 36\n",
      "negative testing data count: 36\n",
      "training labels count: 74\n"
     ]
    }
   ],
   "source": [
    "## Prepare the train and test tensors\n",
    "# Params\n",
    "percent = 50                                # You can change the percent of samples you want to test with\n",
    "nTest = int((percent/100)*pos.shape[0])     # Define the number of testing  samples\n",
    "nTrain = pos.shape[0]-nTest                 # Define number of training samples \n",
    "\n",
    "\n",
    "# Specify pos train and test samples\n",
    "pos_train = pos[:nTrain]                  # list of samples to train \n",
    "pos_test = pos[nTrain:]                   # list of samples to test\n",
    "pos_test = torch.tensor(pos_test).float() # Make test samples to a tensor\n",
    "\n",
    "# Specify Neg train and test samples\n",
    "neg_train = np.array(random.choices(neg, k=nTrain))  # list of samples to train \n",
    "neg_test = np.array(random.choices(neg, k=nTest))    # list of samples to test\n",
    "neg_test = torch.tensor(neg_test).float()            # Make test samples to a tensor\n",
    "\n",
    "\n",
    "# Combine everything into their final structures\n",
    "training_data = torch.tensor(np.concatenate((pos_train, neg_train), axis = 0)).float()  # Train data \n",
    "positive_testing_data = torch.tensor(pos_test).float()                                  # Test pos data \n",
    "negative_testing_data = torch.tensor(neg_test).float()                                  # Test neg data \n",
    "\n",
    "# Print the size of each of our data structures\n",
    "print(\"training data count: \" + str(training_data.shape[0]))\n",
    "print(\"positive testing data count: \" + str(positive_testing_data.shape[0]))\n",
    "print(\"negative testing data count: \" + str(negative_testing_data.shape[0]))\n",
    "\n",
    "# Generate training labels\n",
    "labels = torch.tensor(np.zeros((training_data.shape[0],1))).float()\n",
    "labels[0:nTrain+1] = 1.0\n",
    "print(\"training labels count: \" + str(labels.shape[0]))\n",
    "\n",
    "\n"
   ]
  },
  {
   "cell_type": "code",
   "execution_count": 12,
   "metadata": {},
   "outputs": [
    {
     "data": {
      "text/plain": [
       "tensor([[ 1.1999e+00,  1.9412e+00, -4.4360e-01, -1.0592e-01, -4.4011e-01,\n",
       "         -3.3042e-01, -4.1873e-01, -5.5564e-01,  1.1092e+00,  1.1190e+00,\n",
       "         -5.7833e-01,  8.0910e-01, -5.8992e-01, -3.2458e-01, -2.6332e-01,\n",
       "         -5.7832e-01,  1.0491e+00, -2.5156e-01, -3.9398e-01, -2.5180e-02,\n",
       "         -1.6684e-01, -4.0006e-01, -3.5726e-01, -4.8050e-01],\n",
       "        [ 1.2732e-01, -7.5130e-01, -4.2242e-01, -5.1515e-01, -5.1084e-01,\n",
       "         -5.0616e-01, -6.6003e-01, -6.4912e-01, -5.9091e-01, -5.1766e-01,\n",
       "         -3.8391e-01, -2.6007e-01, -4.0460e-01, -5.1110e-01, -5.4679e-01,\n",
       "         -5.3198e-01,  6.1999e-01, -4.7841e-01,  1.1131e-01,  9.0425e-01,\n",
       "         -3.3753e-04, -1.4962e-01,  8.0984e-01,  5.5694e-01],\n",
       "        [ 1.2749e+00,  1.6907e+00,  2.5244e+00,  3.3856e+00,  2.1601e+00,\n",
       "          1.9974e+00,  2.1905e+00,  1.6628e+00,  2.3062e+00,  1.9150e+00,\n",
       "          2.3816e+00,  4.1409e-01,  2.4560e+00,  1.6489e+00,  1.3398e+00,\n",
       "          1.1826e+00, -9.9273e-02,  7.7425e-02, -5.7067e-02,  5.7552e-01,\n",
       "          2.7402e+00,  5.0744e-01, -2.8361e-01, -1.9288e-01],\n",
       "        [-2.6936e-01, -7.3283e-01, -6.4356e-01, -6.1803e-01, -3.9707e-01,\n",
       "         -2.1990e-01, -3.1007e-01, -3.0625e-01, -7.1833e-01,  9.4817e-01,\n",
       "          9.7679e-02, -3.2355e-01, -1.1383e-01,  7.7272e-01,  3.1022e-01,\n",
       "         -3.7480e-01, -5.8226e-01, -6.4185e-01, -5.4321e-01, -6.8877e-01,\n",
       "         -6.8844e-01, -6.1972e-01, -5.5273e-01, -5.4092e-01]])"
      ]
     },
     "execution_count": 12,
     "metadata": {},
     "output_type": "execute_result"
    }
   ],
   "source": [
    "# Want to see example samples within the testing data set? \n",
    "# Here's how you can print the first four samples in each set: \n",
    "pos_test[:4]"
   ]
  },
  {
   "cell_type": "code",
   "execution_count": 13,
   "metadata": {},
   "outputs": [
    {
     "data": {
      "text/plain": [
       "tensor([[ 2.1022e-01,  6.3051e-01, -1.4097e-01,  4.4141e-01, -1.7055e-01,\n",
       "          1.5408e+00, -5.3546e-01, -2.8223e-01, -4.7515e-01, -5.7514e-01,\n",
       "         -2.6085e-01, -2.1982e-01, -4.6189e-01, -3.6249e-01, -4.6594e-01,\n",
       "         -4.2114e-01,  5.1400e+00,  2.3374e+00,  2.8826e+00,  1.8524e+00,\n",
       "          1.7296e+00,  2.0706e+00,  3.8509e+00,  3.3352e+00],\n",
       "        [-1.1077e+00, -8.8725e-01, -7.1516e-01, -6.5879e-01, -7.3977e-01,\n",
       "         -7.6575e-01, -7.7606e-01, -6.9357e-01, -1.1907e+00, -8.4510e-01,\n",
       "         -7.1870e-01, -7.6988e-01, -7.4514e-01, -6.9974e-01, -6.7311e-01,\n",
       "         -7.3577e-01,  3.8983e-01, -9.3978e-02, -4.3248e-01, -6.6236e-01,\n",
       "         -4.9392e-01, -1.8551e-01,  1.8634e-01, -2.0220e-01],\n",
       "        [ 4.1181e-01,  4.1604e-01,  1.5473e-03,  1.7126e+00,  3.3784e-01,\n",
       "          1.0831e+00,  3.6580e+00,  2.3020e+00,  2.4810e-01,  4.5308e-01,\n",
       "         -2.4101e-01,  6.4038e-01, -2.1717e-02,  4.3586e-02, -1.5257e-01,\n",
       "          3.8999e-02,  3.3261e-01, -1.7202e-01, -3.8095e-01, -3.4369e-01,\n",
       "         -2.6275e-01, -1.1432e-01, -2.4449e-01, -3.0594e-01],\n",
       "        [-5.9843e-02, -6.3977e-01, -6.4551e-01, -5.1828e-01, -5.2170e-01,\n",
       "         -5.4437e-01, -6.3043e-01, -5.5650e-01, -2.2658e-01, -7.0855e-01,\n",
       "         -6.6340e-01, -5.9476e-01, -6.2401e-01, -6.2572e-01, -6.2692e-01,\n",
       "         -6.7207e-01,  2.8924e-01, -2.9938e-01, -2.6968e-01, -3.9511e-01,\n",
       "         -6.1266e-01, -5.6987e-01, -5.0579e-01, -5.5391e-01]])"
      ]
     },
     "execution_count": 13,
     "metadata": {},
     "output_type": "execute_result"
    }
   ],
   "source": [
    "neg_test[:4]"
   ]
  },
  {
   "cell_type": "markdown",
   "metadata": {},
   "source": [
    "# Train\n",
    "We are now ready to train the model! First we load the model. Then we define the optimizer(this is used in the training function that we defined) to be a common optimization algorithm from pyTorch (Adam). See more at https://pytorch.org/docs/stable/optim.html. Then, all that's left is to call our train function that we defined!  "
   ]
  },
  {
   "cell_type": "code",
   "execution_count": 14,
   "metadata": {},
   "outputs": [
    {
     "name": "stdout",
     "output_type": "stream",
     "text": [
      "Below is the loss graph for dataset training session\n"
     ]
    },
    {
     "data": {
      "image/png": "[encoded data removed]",
      "text/plain": [
       "<Figure size 720x360 with 1 Axes>"
      ]
     },
     "metadata": {
      "needs_background": "light"
     },
     "output_type": "display_data"
    }
   ],
   "source": [
    "## TRAINING TIME \n",
    "\n",
    "# Make sure we're starting from untrained every time\n",
    "nn_model = torch.load(\"nn_model_default_state\")\n",
    "\n",
    "# Define a learning function, needs to be reinitialized every load\n",
    "optimizer = torch.optim.Adam(nn_model.parameters(), lr = learning_rate)\n",
    "\n",
    "## Use our training procedure with the sample data\n",
    "print(\"Below is the loss graph for dataset training session\")\n",
    "train_network(training_data, labels, iterations = 1500)\n",
    "\n"
   ]
  },
  {
   "cell_type": "markdown",
   "metadata": {},
   "source": [
    "# Test\n",
    "We are now ready to test the model. We just pass each one of our samples in the test data set through our trained network and visualize the results. We can also evaluate for model accuracy by dividing the number of correct classifications over all classifications in the testing.  "
   ]
  },
  {
   "cell_type": "code",
   "execution_count": 15,
   "metadata": {
    "scrolled": true
   },
   "outputs": [
    {
     "name": "stdout",
     "output_type": "stream",
     "text": [
      "Positive Classification 1: 99.99%\n",
      "Positive Classification 2: 99.73%\n",
      "Positive Classification 3: 0.00%\n",
      "Positive Classification 4: 99.68%\n",
      "Positive Classification 5: 98.51%\n",
      "Positive Classification 6: 99.86%\n",
      "Positive Classification 7: 0.00%\n",
      "Positive Classification 8: 99.97%\n",
      "Positive Classification 9: 0.00%\n",
      "Positive Classification 10: 99.70%\n",
      "Positive Classification 11: 99.73%\n",
      "Positive Classification 12: 99.98%\n",
      "Positive Classification 13: 0.00%\n",
      "Positive Classification 14: 0.00%\n",
      "Positive Classification 15: 0.00%\n",
      "Positive Classification 16: 99.02%\n",
      "Positive Classification 17: 99.92%\n",
      "Positive Classification 18: 2.51%\n",
      "Positive Classification 19: 0.00%\n",
      "Positive Classification 20: 100.00%\n",
      "Positive Classification 21: 98.72%\n",
      "Positive Classification 22: 98.40%\n",
      "Positive Classification 23: 0.00%\n",
      "Positive Classification 24: 99.84%\n",
      "Positive Classification 25: 100.00%\n",
      "Positive Classification 26: 99.96%\n",
      "Positive Classification 27: 0.00%\n",
      "Positive Classification 28: 0.00%\n",
      "Positive Classification 29: 0.00%\n",
      "Positive Classification 30: 0.00%\n",
      "Positive Classification 31: 99.11%\n",
      "Positive Classification 32: 99.61%\n",
      "Positive Classification 33: 0.00%\n",
      "Positive Classification 34: 99.96%\n",
      "Positive Classification 35: 99.97%\n",
      "Positive Classification 36: 99.93%\n",
      "\n",
      "Negative Classification 1: 47.75%\n",
      "Negative Classification 2: 0.45%\n",
      "Negative Classification 3: 0.00%\n",
      "Negative Classification 4: 99.94%\n",
      "Negative Classification 5: 0.00%\n",
      "Negative Classification 6: 99.97%\n",
      "Negative Classification 7: 0.00%\n",
      "Negative Classification 8: 0.00%\n",
      "Negative Classification 9: 0.07%\n",
      "Negative Classification 10: 99.97%\n",
      "Negative Classification 11: 0.00%\n",
      "Negative Classification 12: 0.45%\n",
      "Negative Classification 13: 0.00%\n",
      "Negative Classification 14: 99.81%\n",
      "Negative Classification 15: 99.97%\n",
      "Negative Classification 16: 99.98%\n",
      "Negative Classification 17: 99.68%\n",
      "Negative Classification 18: 97.38%\n",
      "Negative Classification 19: 0.87%\n",
      "Negative Classification 20: 0.09%\n",
      "Negative Classification 21: 99.97%\n",
      "Negative Classification 22: 0.00%\n",
      "Negative Classification 23: 82.40%\n",
      "Negative Classification 24: 0.87%\n",
      "Negative Classification 25: 0.00%\n",
      "Negative Classification 26: 0.16%\n",
      "Negative Classification 27: 0.11%\n",
      "Negative Classification 28: 0.00%\n",
      "Negative Classification 29: 0.02%\n",
      "Negative Classification 30: 0.00%\n",
      "Negative Classification 31: 0.00%\n",
      "Negative Classification 32: 82.40%\n",
      "Negative Classification 33: 0.00%\n",
      "Negative Classification 34: 0.00%\n",
      "Negative Classification 35: 0.00%\n",
      "Negative Classification 36: 0.00%\n",
      "\n",
      "Classification Accuracy: 65.28%\n"
     ]
    }
   ],
   "source": [
    "## TESTING TIME \n",
    "# Parameters \n",
    "corr = 0       # tracks number of correct classifications\n",
    "thresh = 0.5   # threshold to classify as 'Mind-Wandering'\n",
    "# if output is greater than 0.5, we reagrd it as a Mind-Wandering classification\n",
    "\n",
    "# Classify our positive test dataset and print the results\n",
    "classification_1 = nn_model(positive_testing_data)\n",
    "for index, value in enumerate(classification_1.data.tolist()):\n",
    "    print(\"Positive Classification {1}: {0:.2f}%\".format(value[0] * 100, index + 1))\n",
    "    # if output > 0.5; we have correctly classified mind-wandering\n",
    "    if((value[0]) > thresh):   \n",
    "        corr += 1\n",
    "\n",
    "print()\n",
    "\n",
    "# Classify our negative test dataset and print the results\n",
    "classification_2 = nn_model(negative_testing_data)\n",
    "for index, value in enumerate(classification_2.data.tolist()):\n",
    "    print(\"Negative Classification {1}: {0:.2f}%\".format(value[0] * 100, index + 1))\n",
    "    # if output > 0.5; we have correctly classified non-mind-wandering\n",
    "    if((value[0]) < thresh):\n",
    "        corr += 1\n",
    "\n",
    "accuracy = (corr/(positive_testing_data.shape[0]+negative_testing_data.shape[0])) * 100\n",
    "\n",
    "print(\"\\nClassification Accuracy: {:.2f}%\".format(accuracy))\n"
   ]
  },
  {
   "cell_type": "markdown",
   "metadata": {},
   "source": [
    "The classification accurcay for this run seems to be about 65.28%. This is by no means perfect but it IS better than random chance. That is, our network IS predicting something. In fact working with the super rudimentary data we have (we only have 1 reading per second and are only using 3 readings as input) + low number of samples (we have less than a 100 training samples which is pretty low) used to train the network, the network seems to do a pretty good job. \n"
   ]
  },
  {
   "cell_type": "markdown",
   "metadata": {},
   "source": [
    "# Extracting Parameters \n",
    "\n",
    "Let's say I'm satisfies with this network (if not, I might re-run the optimzation or tweak some stuff - like collecting more data, tweaking NN architecture, etc), it's time for me to implement this network on the arduino. To do so, I need to know all the weights and biases of the network. The follwing blocks of code prints this out to the screen: \n"
   ]
  },
  {
   "cell_type": "code",
   "execution_count": 16,
   "metadata": {},
   "outputs": [
    {
     "name": "stdout",
     "output_type": "stream",
     "text": [
      "Layer 1: Bias\n",
      "Parameter containing:\n",
      "tensor([ 0.4012, -0.1167, -0.2542,  0.0496,  0.5950,  0.1761,  0.0209],\n",
      "       requires_grad=True)\n",
      "\n",
      "Layer 2: Bias\n",
      "Parameter containing:\n",
      "tensor([ 0.8503, -0.3391,  0.1739, -0.0366,  0.0370,  0.5428],\n",
      "       requires_grad=True)\n",
      "\n",
      "Layer 3: Bias\n",
      "Parameter containing:\n",
      "tensor([-0.1854,  0.2801,  0.8478,  0.3902,  0.0883], requires_grad=True)\n",
      "\n",
      "Layer 4: Bias\n",
      "Parameter containing:\n",
      "tensor([0.6722], requires_grad=True)\n"
     ]
    }
   ],
   "source": [
    "print(\"Layer 1: Bias\")\n",
    "print(nn_model.InputLinear.bias)\n",
    "\n",
    "print(\"\\nLayer 2: Bias\")\n",
    "print(nn_model.HiddenLinear.bias)\n",
    "\n",
    "print(\"\\nLayer 3: Bias\")\n",
    "print(nn_model.HiddenLinear2.bias)\n",
    "\n",
    "print(\"\\nLayer 4: Bias\")\n",
    "print(nn_model.OutputLinear.bias)"
   ]
  },
  {
   "cell_type": "code",
   "execution_count": 17,
   "metadata": {},
   "outputs": [
    {
     "name": "stdout",
     "output_type": "stream",
     "text": [
      "Layer 1: Weights ==> torch.Size([24, 7])\n",
      "tensor([[ 0.2419, -0.2120, -0.3015, -0.2938,  0.4000, -0.1906,  0.0524],\n",
      "        [ 0.4860,  0.2274,  0.2857, -0.1316,  0.0420, -0.2970,  0.3802],\n",
      "        [ 0.1054, -0.8773, -0.7190, -0.4493,  0.1195,  0.5787,  0.1789],\n",
      "        [ 0.3377, -0.2554, -0.2319,  0.0581,  0.7208,  0.0434, -0.3644],\n",
      "        [-0.6364,  0.2855,  0.5553,  0.4399, -0.2728, -0.6831,  0.3790],\n",
      "        [-0.5786, -0.0832, -0.1771,  0.0146,  0.7982, -0.4230,  0.0851],\n",
      "        [-0.6120,  0.4741,  0.6472,  0.6094,  0.3961, -0.3929, -0.2151],\n",
      "        [-0.0575,  0.0165, -0.2707, -0.2583,  0.1625, -0.3324,  0.3747],\n",
      "        [-0.5528,  0.2760, -0.0938,  0.3043,  0.4574, -0.4488,  0.3860],\n",
      "        [ 0.1573, -0.3626, -0.6732,  0.0294,  0.8808, -0.4776, -0.6726],\n",
      "        [ 0.1288, -0.1322, -0.2696,  0.0162,  0.6736, -0.4281, -0.3111],\n",
      "        [ 0.4333, -0.3831,  0.0370, -0.3131,  0.2161, -0.1263,  0.4449],\n",
      "        [ 0.1381,  0.1912,  0.4022,  0.3933, -0.5933, -0.8646,  0.3262],\n",
      "        [ 0.2378, -0.0441,  0.2285, -0.5574, -0.1061, -0.3688,  0.2474],\n",
      "        [ 0.4720, -0.0909,  0.2527, -0.4327, -0.6951, -0.4265,  0.4850],\n",
      "        [ 0.1105, -0.0189,  0.0189, -0.3240,  0.0341, -0.3934,  0.1068],\n",
      "        [-0.3023, -0.2531, -0.2803, -0.5765, -0.1771, -0.0067,  0.7981],\n",
      "        [ 0.2745, -0.0664,  0.0224, -0.1655,  0.0269, -0.0952, -0.0740],\n",
      "        [ 0.5858, -0.5625, -0.6102, -0.6833, -0.0956,  0.4799,  0.2638],\n",
      "        [ 0.0876, -0.3568, -0.2028, -0.1677,  0.4160,  0.4380, -0.4906],\n",
      "        [ 0.1547, -0.0734,  0.1432,  0.2994, -0.1465, -0.1455, -0.3877],\n",
      "        [ 0.1733, -0.0179,  0.0060, -0.0360,  0.0579, -0.3832, -0.1712],\n",
      "        [-0.2141,  0.7598,  0.4898,  0.6836, -0.0156, -0.7053, -0.6254],\n",
      "        [-0.2030,  0.2897,  0.5546, -0.0432, -0.4804, -0.4846,  0.1088]],\n",
      "       grad_fn=<TransposeBackward0>)\n",
      "\n",
      "Layer 2: Weights ==> torch.Size([7, 6])\n",
      "tensor([[ 0.8346,  0.2710, -0.8913, -0.9633, -0.8197,  0.5761],\n",
      "        [-0.9173, -0.4210,  0.6356,  0.6796,  0.6738,  0.7913],\n",
      "        [-1.1483,  0.0965,  0.9748,  0.8476,  1.0029,  1.3973],\n",
      "        [-0.4615, -0.1065,  0.9596,  0.5339,  0.7928,  0.5148],\n",
      "        [ 0.5929, -0.4509,  0.4245,  0.6709,  0.3183, -0.8793],\n",
      "        [ 0.9419, -0.0261, -0.3973, -0.1940, -0.3694, -0.3636],\n",
      "        [-0.1518,  0.6274, -0.6707, -0.8832, -0.7351,  0.5065]],\n",
      "       grad_fn=<TransposeBackward0>)\n",
      "\n",
      "Layer 3: Weights ==> torch.Size([6, 5])\n",
      "tensor([[-0.3270, -0.7241,  1.0912, -0.5619, -0.5234],\n",
      "        [ 0.0142,  0.4971, -0.6419,  0.7992,  0.4273],\n",
      "        [ 0.1526,  1.1183, -0.9798,  1.1295,  0.5753],\n",
      "        [-0.2221,  1.1809, -1.0005,  0.9404,  1.3214],\n",
      "        [-0.2213,  1.5467, -1.2044,  0.9261,  1.2138],\n",
      "        [ 0.0171,  1.0184, -0.1317,  0.5861,  0.7014]],\n",
      "       grad_fn=<TransposeBackward0>)\n",
      "\n",
      "Layer 4: Weights ==> torch.Size([5, 1])\n",
      "tensor([[ 0.2092],\n",
      "        [-1.2222],\n",
      "        [ 1.2990],\n",
      "        [-1.5211],\n",
      "        [-1.8412]], grad_fn=<TransposeBackward0>)\n"
     ]
    }
   ],
   "source": [
    "print(\"Layer 1: Weights ==> {}\".format((torch.transpose(nn_model.InputLinear.weight,-2,1)).shape))\n",
    "print(torch.transpose(nn_model.InputLinear.weight,-2,1))\n",
    "\n",
    "print(\"\\nLayer 2: Weights ==> {}\".format((torch.transpose(nn_model.HiddenLinear.weight,-2,1)).shape))\n",
    "print(torch.transpose(nn_model.HiddenLinear.weight,-2,1))\n",
    "\n",
    "print(\"\\nLayer 3: Weights ==> {}\".format((torch.transpose(nn_model.HiddenLinear2.weight,-2,1)).shape))\n",
    "print(torch.transpose(nn_model.HiddenLinear2.weight,-2,1))\n",
    "\n",
    "print(\"\\nLayer 4: Weights ==> {}\".format((torch.transpose(nn_model.OutputLinear.weight,-2,1)).shape))\n",
    "print(torch.transpose(nn_model.OutputLinear.weight,-2,1))"
   ]
  },
  {
   "cell_type": "markdown",
   "metadata": {},
   "source": [
    "# LE FIN"
   ]
  }
 ],
 "metadata": {
  "kernelspec": {
   "display_name": "Python 3.8.1 64-bit",
   "language": "python",
   "name": "python38164bit104e7a8a82c14d179202e71073891aed"
  },
  "language_info": {
   "codemirror_mode": {
    "name": "ipython",
    "version": 3
   },
   "file_extension": ".py",
   "mimetype": "text/x-python",
   "name": "python",
   "nbconvert_exporter": "python",
   "pygments_lexer": "ipython3",
   "version": "3.8.1"
  }
 },
 "nbformat": 4,
 "nbformat_minor": 4
}
